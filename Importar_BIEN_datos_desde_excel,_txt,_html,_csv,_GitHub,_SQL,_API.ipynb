{
  "nbformat": 4,
  "nbformat_minor": 0,
  "metadata": {
    "colab": {
      "provenance": []
    },
    "kernelspec": {
      "name": "python3",
      "display_name": "Python 3"
    },
    "language_info": {
      "name": "python"
    }
  },
  "cells": [
    {
      "cell_type": "markdown",
      "source": [
        "#IMPORTAR DATOS DESDE DIFERENTES METODOS"
      ],
      "metadata": {
        "id": "4tkjIrEWbE3w"
      }
    },
    {
      "cell_type": "markdown",
      "source": [
        "###Importar datos desde excel\n",
        "\n",
        "\n"
      ],
      "metadata": {
        "id": "tNnX1u8_bJmh"
      }
    },
    {
      "cell_type": "code",
      "execution_count": null,
      "metadata": {
        "id": "fDbw13J-aRcL"
      },
      "outputs": [],
      "source": [
        "import pandas as pd\n",
        "from google.colab import files\n",
        "uploaded = files.upload()"
      ]
    },
    {
      "cell_type": "markdown",
      "source": [
        "Definimos la tabla del excel como df_excel\n",
        "\n",
        "\n"
      ],
      "metadata": {
        "id": "I8mwAezDbyU6"
      }
    },
    {
      "cell_type": "code",
      "source": [
        "df_excel = pd.read_excel('BD_TESIS.xlsx')\n"
      ],
      "metadata": {
        "id": "M-CD7kSibs8z"
      },
      "execution_count": null,
      "outputs": []
    },
    {
      "cell_type": "markdown",
      "source": [
        "Visualizamos los datos y su informacion"
      ],
      "metadata": {
        "id": "AdA9fDx8cGc4"
      }
    },
    {
      "cell_type": "code",
      "source": [
        "df_excel.head()\n",
        "df_excel.info()"
      ],
      "metadata": {
        "id": "0hyYJjqmcLIU"
      },
      "execution_count": null,
      "outputs": []
    },
    {
      "cell_type": "markdown",
      "source": [
        "###Importar datos desde txt"
      ],
      "metadata": {
        "id": "Eg1Zjd5TbOJm"
      }
    },
    {
      "cell_type": "code",
      "source": [
        "import pandas as pd\n",
        "from google.colab import files\n",
        "uploaded = files.upload()"
      ],
      "metadata": {
        "id": "37BmydoKbR5v"
      },
      "execution_count": null,
      "outputs": []
    },
    {
      "cell_type": "markdown",
      "source": [
        "Definimos la tabla del excel como df_txt"
      ],
      "metadata": {
        "id": "k_xhRbmtb3-2"
      }
    },
    {
      "cell_type": "code",
      "source": [
        "df_txt = pd.read_csv('school_data_1.txt',encoding= 'unicode_escape', sep='\\t', decimal=',')\n",
        "df_txt.head()"
      ],
      "metadata": {
        "id": "sGWKA21Ebt0l"
      },
      "execution_count": null,
      "outputs": []
    },
    {
      "cell_type": "markdown",
      "source": [
        "Visualizamos los datos y su informacion\n"
      ],
      "metadata": {
        "id": "GxDFo2xpcTRW"
      }
    },
    {
      "cell_type": "code",
      "source": [
        "df_txt.head()\n",
        "df_txt.info()"
      ],
      "metadata": {
        "id": "KqZy3qFBcXk7"
      },
      "execution_count": null,
      "outputs": []
    },
    {
      "cell_type": "markdown",
      "source": [
        "###Importar datos desde html"
      ],
      "metadata": {
        "id": "s7gcVfrgbSP6"
      }
    },
    {
      "cell_type": "code",
      "source": [
        "#debemos revisar la pagina web para ver que tabla nos interesa\n",
        "\n",
        "list_html = pd.read_html('https://en.wikipedia.org/wiki/Minnesota') # ojo..es una lista de las tablas en la html\n",
        "print(f'Total tables: {len(list_html)}') # cantidad de tablas en la html"
      ],
      "metadata": {
        "id": "oZ1bqqFxbWT_"
      },
      "execution_count": null,
      "outputs": []
    },
    {
      "cell_type": "markdown",
      "source": [
        "Filtramos todas las tablas encontradas y dejamos la de nuestro interes.\n",
        "Definimos la tabla de nuestro interes como df_cities"
      ],
      "metadata": {
        "id": "wXGPwi9vchVe"
      }
    },
    {
      "cell_type": "code",
      "source": [
        "#Filtro de tablas, dejamos \"United States presidential election results for Minnesota\"\n",
        "\n",
        "list_cities = pd.read_html('https://en.wikipedia.org/wiki/Minnesota',\n",
        "                           match='United States presidential election results for Minnesota') # lista de tablas que son iguales al match\n",
        "print(f'Total matches: {len(list_cities)}') # cantidad de tablas igual al match\n",
        "\n",
        "df_cities = list_cities[0] # DataFrame de la lista de matches en la html ....se escoge la primera (la unica en este caso)\n"
      ],
      "metadata": {
        "id": "ecKdHkH1cpJk"
      },
      "execution_count": null,
      "outputs": []
    },
    {
      "cell_type": "markdown",
      "source": [
        "Visualizamos los datos y su informacion\n"
      ],
      "metadata": {
        "id": "CV6hMsXFcvsh"
      }
    },
    {
      "cell_type": "code",
      "source": [
        "df_cities.head()\n",
        "df_cities.info()"
      ],
      "metadata": {
        "id": "ej2V36ygcwlj"
      },
      "execution_count": null,
      "outputs": []
    },
    {
      "cell_type": "markdown",
      "source": [
        "###Importar datos desde GitHub (csv)\n"
      ],
      "metadata": {
        "id": "h4q-tx6acAeD"
      }
    },
    {
      "cell_type": "markdown",
      "source": [
        "Definimos la tabla de GitHub en df_loan"
      ],
      "metadata": {
        "id": "3Ei9Re7bdTg3"
      }
    },
    {
      "cell_type": "code",
      "source": [
        "df_loan  = pd.read_csv('https://raw.githubusercontent.com/gedeck/practical-statistics-for-data-scientists/master/data/loans_income.csv') # archivo desde GitHub"
      ],
      "metadata": {
        "id": "7Z3YwW2YcCQ7"
      },
      "execution_count": null,
      "outputs": []
    },
    {
      "cell_type": "markdown",
      "source": [
        "Visualizamos los datos y su informacion\n"
      ],
      "metadata": {
        "id": "9WpnN3hFdeCM"
      }
    },
    {
      "cell_type": "code",
      "source": [
        "df_loan.head()\n",
        "df_loan.info()"
      ],
      "metadata": {
        "id": "Ewh50qimdea9"
      },
      "execution_count": null,
      "outputs": []
    },
    {
      "cell_type": "markdown",
      "source": [
        "###Importar datos desde SQL"
      ],
      "metadata": {
        "id": "cz_3H7-7bUZm"
      }
    },
    {
      "cell_type": "code",
      "source": [
        "import sqlite3\n",
        "from google.colab import files\n",
        "uploaded = files.upload()"
      ],
      "metadata": {
        "id": "_FP5RdaMbYsh"
      },
      "execution_count": null,
      "outputs": []
    },
    {
      "cell_type": "markdown",
      "source": [
        "Definimos la tabla del SQL como df_sql\n",
        "\n",
        "\n"
      ],
      "metadata": {
        "id": "sJJ7Hs1Xdoqn"
      }
    },
    {
      "cell_type": "code",
      "source": [
        "# Establecemos conn, que sera la conexion a la database\n",
        "conn = sqlite3.connect('festivos_colombia.db')\n",
        "\n",
        "# define SQL query\n",
        "query = \"SELECT * FROM holidays\"  # * significa todas las entradas(columnas) desde tabla holidays\n",
        "\n",
        "# ejecuta query y retorna resultado como Pandas dataframe\n",
        "df_sql = pd.read_sql(query, conn)"
      ],
      "metadata": {
        "id": "RLOTzyHVdpCU"
      },
      "execution_count": null,
      "outputs": []
    },
    {
      "cell_type": "markdown",
      "source": [
        "Visualizamos los datos y su informacion\n"
      ],
      "metadata": {
        "id": "tlcP3VYUeBLP"
      }
    },
    {
      "cell_type": "code",
      "source": [
        "df_sql.head()\n",
        "df_sql.info()"
      ],
      "metadata": {
        "id": "OfMJPlaieCHQ"
      },
      "execution_count": null,
      "outputs": []
    },
    {
      "cell_type": "markdown",
      "source": [
        "###Importar datos desde una API"
      ],
      "metadata": {
        "id": "cibYAiqhbXm7"
      }
    },
    {
      "cell_type": "markdown",
      "source": [
        "En caso de establecer conexion exitosa con la API, definimos la tabla desde la api como df_api"
      ],
      "metadata": {
        "id": "9C264DC6eM-y"
      }
    },
    {
      "cell_type": "code",
      "source": [
        "import requests\n",
        "import pandas as pd\n",
        "\n",
        "#Definir la URL del punto final de la API\n",
        "api_url = \"https://jsonplaceholder.typicode.com/posts\"\n",
        "\n",
        "# Realizar una solicitud GET a la API\n",
        "response = requests.get(api_url)\n",
        "\n",
        "#Comprueba si la solicitud fue exitosa\n",
        "if response.status_code == 200:\n",
        "\n",
        "  #Converir la respuesta JSON a un disccionario\n",
        "  data = response.json()\n",
        "\n",
        "  #Si los datos estan en forma de lista, crea un dataframe\n",
        "  df_api = pd.DataFrame(data)\n",
        "\n",
        "  #mostrar la info del dataframe\n",
        "  df_api.info()\n",
        "else:\n",
        "  print(f\"Error en la solicitud. Código de estado: {response.status_code}\")\n",
        "\n",
        "\n",
        "\n"
      ],
      "metadata": {
        "id": "GKlybhUPbbI3"
      },
      "execution_count": null,
      "outputs": []
    }
  ]
}